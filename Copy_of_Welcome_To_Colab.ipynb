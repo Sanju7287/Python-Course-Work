{
  "cells": [
    {
      "cell_type": "markdown",
      "metadata": {
        "id": "view-in-github",
        "colab_type": "text"
      },
      "source": [
        "<a href=\"https://colab.research.google.com/github/Sanju7287/Python-Course-Work/blob/main/Copy_of_Welcome_To_Colab.ipynb\" target=\"_parent\"><img src=\"https://colab.research.google.com/assets/colab-badge.svg\" alt=\"Open In Colab\"/></a>"
      ]
    },
    {
      "cell_type": "code",
      "source": [
        "import numpy as np\n",
        "print(np)\n",
        "arr1=np.array([1,2,3,4,5])\n",
        "print(\"1-dim\",arr1,sep='\\n',end='\\n\\n')\n",
        "arr2=np.array([[1,2,3],[4,5,6]])\n",
        "print(\"2-dim\",arr2,sep='\\n',end='\\n\\n')\n",
        "arr3=np.array([[[1,2],[3,4],[5,6],[7,8]]])\n",
        "print(\"multi-dim\",arr3,sep='\\n')"
      ],
      "metadata": {
        "id": "6OLy53TQjaGs",
        "colab": {
          "base_uri": "https://localhost:8080/"
        },
        "outputId": "ec129e34-016f-4af3-8e1c-f88b893ff686"
      },
      "execution_count": null,
      "outputs": [
        {
          "output_type": "stream",
          "name": "stdout",
          "text": [
            "<module 'numpy' from '/usr/local/lib/python3.12/dist-packages/numpy/__init__.py'>\n",
            "1-dim\n",
            "[1 2 3 4 5]\n",
            "\n",
            "2-dim\n",
            "[[1 2 3]\n",
            " [4 5 6]]\n",
            "\n",
            "multi-dim\n",
            "[[[1 2]\n",
            "  [3 4]\n",
            "  [5 6]\n",
            "  [7 8]]]\n"
          ]
        }
      ]
    },
    {
      "cell_type": "code",
      "source": [
        "zeros=np.zeros((4,9))\n",
        "print(zeros)"
      ],
      "metadata": {
        "colab": {
          "base_uri": "https://localhost:8080/"
        },
        "id": "3CJEv6t3lXyR",
        "outputId": "13e226f6-2c6b-41f4-c45d-6f5beccfd41c"
      },
      "execution_count": null,
      "outputs": [
        {
          "output_type": "stream",
          "name": "stdout",
          "text": [
            "[[0. 0. 0. 0. 0. 0. 0. 0. 0.]\n",
            " [0. 0. 0. 0. 0. 0. 0. 0. 0.]\n",
            " [0. 0. 0. 0. 0. 0. 0. 0. 0.]\n",
            " [0. 0. 0. 0. 0. 0. 0. 0. 0.]]\n"
          ]
        }
      ]
    },
    {
      "cell_type": "code",
      "source": [
        "ones=np.ones((2,5))\n",
        "print(ones)"
      ],
      "metadata": {
        "colab": {
          "base_uri": "https://localhost:8080/"
        },
        "id": "ZRIp4kq8ls3u",
        "outputId": "d564b092-50dd-4ad9-b44e-c89b211d3c55"
      },
      "execution_count": null,
      "outputs": [
        {
          "output_type": "stream",
          "name": "stdout",
          "text": [
            "[[1. 1. 1. 1. 1.]\n",
            " [1. 1. 1. 1. 1.]]\n"
          ]
        }
      ]
    },
    {
      "cell_type": "code",
      "source": [
        "identity=np.eye(8)\n",
        "print(identity)"
      ],
      "metadata": {
        "colab": {
          "base_uri": "https://localhost:8080/"
        },
        "id": "N73pB1Vzl1Re",
        "outputId": "fceb27a7-cd55-4995-ee1c-e08e96b09dbe"
      },
      "execution_count": null,
      "outputs": [
        {
          "output_type": "stream",
          "name": "stdout",
          "text": [
            "[[1. 0. 0. 0. 0. 0. 0. 0.]\n",
            " [0. 1. 0. 0. 0. 0. 0. 0.]\n",
            " [0. 0. 1. 0. 0. 0. 0. 0.]\n",
            " [0. 0. 0. 1. 0. 0. 0. 0.]\n",
            " [0. 0. 0. 0. 1. 0. 0. 0.]\n",
            " [0. 0. 0. 0. 0. 1. 0. 0.]\n",
            " [0. 0. 0. 0. 0. 0. 1. 0.]\n",
            " [0. 0. 0. 0. 0. 0. 0. 1.]]\n"
          ]
        }
      ]
    },
    {
      "cell_type": "code",
      "source": [
        "full_array=np.full((6,5),9)\n",
        "print(full_array)"
      ],
      "metadata": {
        "colab": {
          "base_uri": "https://localhost:8080/"
        },
        "id": "oUDmoYy3mL-k",
        "outputId": "9c374301-7a0f-4bbf-e963-4ddf7be95d54"
      },
      "execution_count": null,
      "outputs": [
        {
          "output_type": "stream",
          "name": "stdout",
          "text": [
            "[[9 9 9 9 9]\n",
            " [9 9 9 9 9]\n",
            " [9 9 9 9 9]\n",
            " [9 9 9 9 9]\n",
            " [9 9 9 9 9]\n",
            " [9 9 9 9 9]]\n"
          ]
        }
      ]
    },
    {
      "cell_type": "markdown",
      "source": [
        "range_arr=np.arange(10,-1,-1)\n",
        "print(range_arr)"
      ],
      "metadata": {
        "id": "o43q-tPWmqLx"
      }
    },
    {
      "cell_type": "code",
      "source": [
        "lin_space=np.linspace(0,50,6)\n",
        "print(lin_space)"
      ],
      "metadata": {
        "colab": {
          "base_uri": "https://localhost:8080/"
        },
        "id": "hrhWqocTnCZU",
        "outputId": "8ee16c3f-150a-4841-a266-c72282aca3d8"
      },
      "execution_count": null,
      "outputs": [
        {
          "output_type": "stream",
          "name": "stdout",
          "text": [
            "[ 0. 10. 20. 30. 40. 50.]\n"
          ]
        }
      ]
    },
    {
      "cell_type": "code",
      "source": [
        "rand_int=np.random.randint(1,7,(10,10))\n",
        "print(rand_int)"
      ],
      "metadata": {
        "colab": {
          "base_uri": "https://localhost:8080/"
        },
        "id": "GnLQixEUowEh",
        "outputId": "2ce432a5-1092-4ac5-b0c1-aa4bc8ec8e89"
      },
      "execution_count": null,
      "outputs": [
        {
          "output_type": "stream",
          "name": "stdout",
          "text": [
            "[[3 3 1 6 4 3 4 6 3 3]\n",
            " [1 6 2 4 6 2 2 4 1 3]\n",
            " [1 6 2 3 3 1 3 5 1 4]\n",
            " [5 2 4 1 1 4 1 3 1 1]\n",
            " [1 4 3 6 6 3 5 4 3 2]\n",
            " [5 5 2 2 2 5 5 5 2 1]\n",
            " [4 5 4 1 4 1 2 4 3 5]\n",
            " [2 5 2 6 6 5 6 2 2 2]\n",
            " [5 3 4 4 5 2 1 3 6 1]\n",
            " [3 3 6 4 1 5 3 6 4 5]]\n"
          ]
        }
      ]
    },
    {
      "cell_type": "code",
      "source": [
        "rand_float=np.random.rand(3,7)\n",
        "print(rand_float)"
      ],
      "metadata": {
        "colab": {
          "base_uri": "https://localhost:8080/"
        },
        "id": "TWED1qWwquRL",
        "outputId": "879dd64e-37b4-4bd1-ffd7-85a460d89f08"
      },
      "execution_count": null,
      "outputs": [
        {
          "output_type": "stream",
          "name": "stdout",
          "text": [
            "[[0.07406379 0.3627676  0.93925905 0.17070761 0.42332895 0.99427589\n",
            "  0.69564988]\n",
            " [0.69842093 0.23498455 0.9980278  0.72737822 0.94838568 0.68531354\n",
            "  0.56673102]\n",
            " [0.74197112 0.0373953  0.55577373 0.99523119 0.04414267 0.88371792\n",
            "  0.08975746]]\n"
          ]
        }
      ]
    },
    {
      "cell_type": "code",
      "source": [
        "rand_norm=np.random.randn(5,5)\n",
        "print(rand_norm)"
      ],
      "metadata": {
        "colab": {
          "base_uri": "https://localhost:8080/"
        },
        "id": "O3uD6zDgrK7X",
        "outputId": "1cee4459-4915-4980-b8c0-66a9db913f4e"
      },
      "execution_count": null,
      "outputs": [
        {
          "output_type": "stream",
          "name": "stdout",
          "text": [
            "[[ 2.28502651 -0.14343616 -0.41814519  0.94759369 -0.86480244]\n",
            " [-0.2674804  -1.09472212  0.13257234 -0.9897562  -1.47327748]\n",
            " [-1.57197506 -1.55130476  1.05018055  1.19591122  0.51812094]\n",
            " [ 0.16965345  1.66284874  0.36609131  0.80286838  0.03676995]\n",
            " [-1.46943602  1.0484798   1.72125841  0.73530572 -0.5143453 ]]\n"
          ]
        }
      ]
    },
    {
      "cell_type": "code",
      "source": [
        "rand_choice=np.random.choice(['html','css','javascript','python','mysql'],3)\n",
        "print(rand_choice)"
      ],
      "metadata": {
        "colab": {
          "base_uri": "https://localhost:8080/"
        },
        "id": "4V2Sucusr1CS",
        "outputId": "fa6cecb2-569c-4d96-89b6-4bcb1dbc6b3b"
      },
      "execution_count": null,
      "outputs": [
        {
          "output_type": "stream",
          "name": "stdout",
          "text": [
            "['python' 'mysql' 'html']\n"
          ]
        }
      ]
    },
    {
      "cell_type": "code",
      "source": [
        "np.random.seed(10)\n",
        "rand_arr=np.random.randint(6)\n",
        "print(rand_arr)"
      ],
      "metadata": {
        "colab": {
          "base_uri": "https://localhost:8080/"
        },
        "id": "eKupXGqjsSoF",
        "outputId": "c865f84e-323c-4a71-9517-6b29f3b66bdc"
      },
      "execution_count": null,
      "outputs": [
        {
          "output_type": "stream",
          "name": "stdout",
          "text": [
            "1\n"
          ]
        }
      ]
    },
    {
      "cell_type": "code",
      "source": [
        "arr=np.array([[1,2],[4,5],[6,7],[8,7],[1,2],[4,5]])\n",
        "print(arr.shape)"
      ],
      "metadata": {
        "colab": {
          "base_uri": "https://localhost:8080/"
        },
        "id": "-vGo-R_Vs8bG",
        "outputId": "054ef724-4ace-415e-f399-a916895625b1"
      },
      "execution_count": null,
      "outputs": [
        {
          "output_type": "stream",
          "name": "stdout",
          "text": [
            "(6, 2)\n"
          ]
        }
      ]
    },
    {
      "cell_type": "code",
      "source": [
        "reshaped=arr.reshape(4,3)\n",
        "print(reshaped)"
      ],
      "metadata": {
        "colab": {
          "base_uri": "https://localhost:8080/"
        },
        "id": "YZaIWD9nuDrI",
        "outputId": "a2ac5c84-0c78-44cc-c5b8-4399878204d5"
      },
      "execution_count": null,
      "outputs": [
        {
          "output_type": "stream",
          "name": "stdout",
          "text": [
            "[[1 2 4]\n",
            " [5 6 7]\n",
            " [8 7 1]\n",
            " [2 4 5]]\n"
          ]
        }
      ]
    },
    {
      "cell_type": "code",
      "source": [
        "a=np.array([[1,2,3,4],[5,6,7,8]])\n",
        "flattened=a.flatten()\n",
        "print(flattened)"
      ],
      "metadata": {
        "colab": {
          "base_uri": "https://localhost:8080/"
        },
        "id": "DL87tQBxuutU",
        "outputId": "a949f845-3d92-483c-cd11-4eb3dcc59594"
      },
      "execution_count": null,
      "outputs": [
        {
          "output_type": "stream",
          "name": "stdout",
          "text": [
            "[1 2 3 4 5 6 7 8]\n"
          ]
        }
      ]
    },
    {
      "cell_type": "code",
      "source": [
        "transposed=arr.T\n",
        "print(transposed)"
      ],
      "metadata": {
        "colab": {
          "base_uri": "https://localhost:8080/"
        },
        "id": "LuJIv2fuv8bE",
        "outputId": "de965edb-2d8c-4cdf-b997-1f35c3b6fca1"
      },
      "execution_count": null,
      "outputs": [
        {
          "output_type": "stream",
          "name": "stdout",
          "text": [
            "[[1 4 6 8 1 4]\n",
            " [2 5 7 7 2 5]]\n"
          ]
        }
      ]
    },
    {
      "cell_type": "code",
      "source": [
        "arr=np.array([10,20,30,40,50])\n",
        "print(arr[0])\n",
        "print(arr[2])\n",
        "print(arr[-1])\n",
        "print(arr[1:4])\n",
        "print(arr[:3])\n",
        "print(arr[::2])"
      ],
      "metadata": {
        "colab": {
          "base_uri": "https://localhost:8080/"
        },
        "id": "CaxGNS7kwIVk",
        "outputId": "60fa1200-9e32-4a9f-c538-bb3fc44eedff"
      },
      "execution_count": null,
      "outputs": [
        {
          "output_type": "stream",
          "name": "stdout",
          "text": [
            "10\n",
            "30\n",
            "50\n",
            "[20 30 40]\n",
            "[10 20 30]\n",
            "[10 30 50]\n"
          ]
        }
      ]
    },
    {
      "cell_type": "code",
      "source": [
        "matrix=np.array([[1,2,3],[4,5,6],[7,8,9]])\n",
        "print(matrix[0,1])\n",
        "print(matrix[0:2,1])\n",
        "print(matrix[1:,:2])\n",
        "print(matrix[::2,::2])\n",
        "print(matrix[0:2,1:3])"
      ],
      "metadata": {
        "colab": {
          "base_uri": "https://localhost:8080/"
        },
        "id": "uA19wGvuwp0k",
        "outputId": "00ab4b6d-b4dc-4710-982d-af1e9127298b"
      },
      "execution_count": null,
      "outputs": [
        {
          "output_type": "stream",
          "name": "stdout",
          "text": [
            "2\n",
            "[2 5]\n",
            "[[4 5]\n",
            " [7 8]]\n",
            "[[1 3]\n",
            " [7 9]]\n",
            "[[2 3]\n",
            " [5 6]]\n"
          ]
        }
      ]
    },
    {
      "cell_type": "code",
      "source": [
        "arr=np.array([10,20,30,40,50])\n",
        "print(arr+1)\n",
        "print(arr*3)\n",
        "print(arr**2)\n",
        "print(arr/3)\n",
        "print(np.sqrt(arr))"
      ],
      "metadata": {
        "colab": {
          "base_uri": "https://localhost:8080/"
        },
        "id": "Y3kQ_o4syDHK",
        "outputId": "39f80d60-6b4c-4f2a-d987-2489312c55e7"
      },
      "execution_count": null,
      "outputs": [
        {
          "output_type": "stream",
          "name": "stdout",
          "text": [
            "[11 21 31 41 51]\n",
            "[ 30  60  90 120 150]\n",
            "[ 100  400  900 1600 2500]\n",
            "[ 3.33333333  6.66666667 10.         13.33333333 16.66666667]\n",
            "[3.16227766 4.47213595 5.47722558 6.32455532 7.07106781]\n"
          ]
        }
      ]
    },
    {
      "cell_type": "code",
      "source": [
        "import numpy as np\n",
        "arr=np.array([1,6,18,29,98])\n",
        "print(np.sum(arr))\n",
        "print(np.mean(arr))\n",
        "print(np.median(arr))"
      ],
      "metadata": {
        "colab": {
          "base_uri": "https://localhost:8080/"
        },
        "id": "fWs0JWB0bvYF",
        "outputId": "943d67f7-2fb3-42cc-9904-54cb240426e6"
      },
      "execution_count": 1,
      "outputs": [
        {
          "output_type": "stream",
          "name": "stdout",
          "text": [
            "152\n",
            "30.4\n",
            "18.0\n"
          ]
        }
      ]
    },
    {
      "cell_type": "code",
      "source": [
        "a=np.array([1,2,3,4,5])\n",
        "print(np.mean(a))\n",
        "print(np.var(a))\n",
        "print(np.std(a))"
      ],
      "metadata": {
        "colab": {
          "base_uri": "https://localhost:8080/"
        },
        "id": "WbuJ_TaOdWvN",
        "outputId": "c80d2cf9-492f-472b-89ac-1d8df5162121"
      },
      "execution_count": 2,
      "outputs": [
        {
          "output_type": "stream",
          "name": "stdout",
          "text": [
            "3.0\n",
            "2.0\n",
            "1.4142135623730951\n"
          ]
        }
      ]
    },
    {
      "cell_type": "code",
      "source": [
        "print(np.min(a))\n",
        "print(np.max(a))"
      ],
      "metadata": {
        "colab": {
          "base_uri": "https://localhost:8080/"
        },
        "id": "FaulOW45dubp",
        "outputId": "3b4c1e43-7e26-4c39-a5c1-7d8fd9a5ad9e"
      },
      "execution_count": 3,
      "outputs": [
        {
          "output_type": "stream",
          "name": "stdout",
          "text": [
            "1\n",
            "5\n"
          ]
        }
      ]
    },
    {
      "cell_type": "code",
      "source": [
        "a=np.array([1,2,3,4,5])\n",
        "print(np.cumsum(a))\n",
        "print(np.cumprod(a))"
      ],
      "metadata": {
        "colab": {
          "base_uri": "https://localhost:8080/"
        },
        "id": "asUHXK1EeNgl",
        "outputId": "cfd5f70c-bf60-48bc-d9c4-2e4e0b8d8782"
      },
      "execution_count": 4,
      "outputs": [
        {
          "output_type": "stream",
          "name": "stdout",
          "text": [
            "[ 1  3  6 10 15]\n",
            "[  1   2   6  24 120]\n"
          ]
        }
      ]
    },
    {
      "cell_type": "code",
      "source": [
        "a=np.array([10,20,30,40,50])\n",
        "print(a%20==0)\n",
        "print(a[a%20==0])"
      ],
      "metadata": {
        "colab": {
          "base_uri": "https://localhost:8080/"
        },
        "id": "r3P2A-dFecXF",
        "outputId": "d195d3c7-fefd-4833-b06d-3dc4ded28f93"
      },
      "execution_count": 7,
      "outputs": [
        {
          "output_type": "stream",
          "name": "stdout",
          "text": [
            "[False  True False  True False]\n",
            "[20 40]\n"
          ]
        }
      ]
    },
    {
      "cell_type": "code",
      "source": [
        "a=np.array([3,1,4,2,7,5,7,4])\n",
        "sorted_a=np.sort(a)\n",
        "print(sorted_a)"
      ],
      "metadata": {
        "colab": {
          "base_uri": "https://localhost:8080/"
        },
        "id": "C6yAWwvTfTDs",
        "outputId": "de325a0f-ff54-4783-9765-02486e99f912"
      },
      "execution_count": 8,
      "outputs": [
        {
          "output_type": "stream",
          "name": "stdout",
          "text": [
            "[1 2 3 4 4 5 7 7]\n"
          ]
        }
      ]
    },
    {
      "cell_type": "code",
      "source": [
        "unique_vals=np.unique(a)\n",
        "print(unique_vals)"
      ],
      "metadata": {
        "colab": {
          "base_uri": "https://localhost:8080/"
        },
        "id": "vQyXpeveftB5",
        "outputId": "f68fae54-739c-46f9-fc35-cc92d4857cd3"
      },
      "execution_count": 9,
      "outputs": [
        {
          "output_type": "stream",
          "name": "stdout",
          "text": [
            "[1 2 3 4 5 7]\n"
          ]
        }
      ]
    },
    {
      "cell_type": "code",
      "source": [
        "a=np.array([10,20,30])\n",
        "view_a=a.view()\n",
        "view_a[0]=100\n",
        "print(a,view_a)\n",
        "copy_a=a.copy()\n",
        "copy_a[0]=200\n",
        "print(a,copy_a)"
      ],
      "metadata": {
        "colab": {
          "base_uri": "https://localhost:8080/"
        },
        "id": "yfgxWpnUf4p5",
        "outputId": "1a875d5e-87e6-48d2-aaec-44a4151e8083"
      },
      "execution_count": 10,
      "outputs": [
        {
          "output_type": "stream",
          "name": "stdout",
          "text": [
            "[100  20  30] [100  20  30]\n",
            "[100  20  30] [200  20  30]\n"
          ]
        }
      ]
    },
    {
      "cell_type": "code",
      "source": [
        "A=np.array([[1,2],[3,4]])\n",
        "B=np.array([[5,6],[8,9]])\n",
        "print(np.dot(A,B))"
      ],
      "metadata": {
        "colab": {
          "base_uri": "https://localhost:8080/"
        },
        "id": "9QV_0hLIg1k1",
        "outputId": "efb6075b-daeb-4364-d6aa-330c2c499865"
      },
      "execution_count": 11,
      "outputs": [
        {
          "output_type": "stream",
          "name": "stdout",
          "text": [
            "[[21 24]\n",
            " [47 54]]\n"
          ]
        }
      ]
    },
    {
      "cell_type": "code",
      "source": [
        "print(np.linalg.det(A))"
      ],
      "metadata": {
        "colab": {
          "base_uri": "https://localhost:8080/"
        },
        "id": "_Yua0o5EhlpE",
        "outputId": "6dca5aea-c08e-47b3-ba0b-218874939fe6"
      },
      "execution_count": 12,
      "outputs": [
        {
          "output_type": "stream",
          "name": "stdout",
          "text": [
            "-2.0000000000000004\n"
          ]
        }
      ]
    },
    {
      "cell_type": "code",
      "source": [
        "print(np.linalg.inv(A))"
      ],
      "metadata": {
        "colab": {
          "base_uri": "https://localhost:8080/"
        },
        "id": "eNmiFVOdh1IQ",
        "outputId": "4622c9c2-17c4-41b5-ad6e-95b888fda04c"
      },
      "execution_count": 13,
      "outputs": [
        {
          "output_type": "stream",
          "name": "stdout",
          "text": [
            "[[-2.   1. ]\n",
            " [ 1.5 -0.5]]\n"
          ]
        }
      ]
    },
    {
      "cell_type": "code",
      "source": [
        "eigenvalues,eigenvectors=np.linalg.eig(A)\n",
        "print(eigenvalues)"
      ],
      "metadata": {
        "colab": {
          "base_uri": "https://localhost:8080/"
        },
        "id": "elfJHzrMiFe4",
        "outputId": "8770f735-e447-4534-ee77-9a78abf717fd"
      },
      "execution_count": 14,
      "outputs": [
        {
          "output_type": "stream",
          "name": "stdout",
          "text": [
            "[-0.37228132  5.37228132]\n"
          ]
        }
      ]
    },
    {
      "cell_type": "code",
      "source": [
        "print(eigenvectors)"
      ],
      "metadata": {
        "colab": {
          "base_uri": "https://localhost:8080/"
        },
        "id": "Y1pnIJyWinUM",
        "outputId": "b3abf96b-b89a-4528-97a8-3787aa686317"
      },
      "execution_count": 15,
      "outputs": [
        {
          "output_type": "stream",
          "name": "stdout",
          "text": [
            "[[-0.82456484 -0.41597356]\n",
            " [ 0.56576746 -0.90937671]]\n"
          ]
        }
      ]
    },
    {
      "cell_type": "code",
      "source": [
        "C=np.array([5,11])\n",
        "solution=np.linalg.solve(A,C)\n",
        "print(solution)"
      ],
      "metadata": {
        "colab": {
          "base_uri": "https://localhost:8080/"
        },
        "id": "uonraaFYiz2f",
        "outputId": "a1e0083a-d75f-4ec3-df19-9b417aaca406"
      },
      "execution_count": 16,
      "outputs": [
        {
          "output_type": "stream",
          "name": "stdout",
          "text": [
            "[1. 2.]\n"
          ]
        }
      ]
    },
    {
      "cell_type": "code",
      "source": [
        "A=np.array([[1,2],[3,4]])\n",
        "B=np.array([[5,6],[7,8]])\n",
        "vertical_stack=np.vstack((A,B))\n",
        "horizontal_stack=np.hstack((A,B))\n",
        "print(vertical_stack)\n",
        "print(horizontal_stack)"
      ],
      "metadata": {
        "colab": {
          "base_uri": "https://localhost:8080/"
        },
        "id": "YuHS9dQ6jG3i",
        "outputId": "bf7cf119-874b-4518-8228-12a5303dbeb1"
      },
      "execution_count": 17,
      "outputs": [
        {
          "output_type": "stream",
          "name": "stdout",
          "text": [
            "[[1 2]\n",
            " [3 4]\n",
            " [5 6]\n",
            " [7 8]]\n",
            "[[1 2 5 6]\n",
            " [3 4 7 8]]\n"
          ]
        }
      ]
    },
    {
      "cell_type": "code",
      "source": [
        "split_arr=np.split(np.array([1,2,3,4,5,6]),3)\n",
        "print(split_arr)"
      ],
      "metadata": {
        "colab": {
          "base_uri": "https://localhost:8080/"
        },
        "id": "JFv3f9zYj7jc",
        "outputId": "fd9ca380-adfb-487a-d9ab-5bf44f9c8d42"
      },
      "execution_count": 18,
      "outputs": [
        {
          "output_type": "stream",
          "name": "stdout",
          "text": [
            "[array([1, 2]), array([3, 4]), array([5, 6])]\n"
          ]
        }
      ]
    }
  ],
  "metadata": {
    "colab": {
      "provenance": [],
      "include_colab_link": true
    },
    "kernelspec": {
      "display_name": "Python 3",
      "name": "python3"
    }
  },
  "nbformat": 4,
  "nbformat_minor": 0
}